{
 "cells": [
  {
   "cell_type": "code",
   "execution_count": 13,
   "metadata": {},
   "outputs": [],
   "source": [
    "import numpy as np\n",
    "from scipy.interpolate import PchipInterpolator\n",
    "import matplotlib.pyplot as plt\n",
    "from lib.histo_utilities import create_TH1D\n",
    "import ROOT as rt"
   ]
  },
  {
   "cell_type": "code",
   "execution_count": 21,
   "metadata": {},
   "outputs": [],
   "source": [
    "def quantile(a, p, weight=None, f=None):\n",
    "    q = np.percentile(a, 100*p).astype(np.float64)\n",
    "\n",
    "    if weight == None:\n",
    "        weight = np.full_like(a, 1.0/a.shape[0], np.float64)\n",
    "\n",
    "    if not f==None:\n",
    "        f_q = f(q)\n",
    "    else:\n",
    "        h = create_TH1D(a, binning=[None, np.percentile(a, 2), np.percentile(a, 98)], weights=weight)\n",
    "        f_q = h.GetBinContent(h.FindBin(q))\n",
    "        \n",
    "        c = rt.TCanvas('c', 'c', 800,600)\n",
    "        h.Draw()\n",
    "        c.Draw()\n",
    "        \n",
    "#         F = np.cumsum(weight, dtype=np.float64)\n",
    "#         a_s = np.sort(a).astype(np.float64)\n",
    "#         i = 0\n",
    "#         while(i<a_s.shape[0]-1):\n",
    "#             if a_s[i] == a_s[i+1]:\n",
    "#                 a_s = np.delete(a_s, i)\n",
    "#                 F = np.delete(F, i)\n",
    "#             else:\n",
    "#                 i += 1\n",
    "#         spl = PchipInterpolator(a_s, F)\n",
    "#         f = spl.derivative()\n",
    "#         f_q = f(q)\n",
    "\n",
    "#         plt.plot(a_s, F)\n",
    "#         a_dense = np.arange(a_s[0], a_s[-1], 0.3*(a_s[1]-a_s[0]))\n",
    "#         plt.plot(a_dense, spl(a_dense))\n",
    "#         plt.plot(a_dense[1:-1], f(a_dense[1:-1]))\n",
    "\n",
    "    sigma_q = p*(1-p)/(a.shape[0]*f_q**2)\n",
    "    print q, sigma_q\n",
    "    return q, sigma_q, c, h"
   ]
  },
  {
   "cell_type": "code",
   "execution_count": 23,
   "metadata": {},
   "outputs": [
    {
     "name": "stdout",
     "output_type": "stream",
     "text": [
      "5.525635126353564 0.0160856758844\n"
     ]
    },
    {
     "name": "stderr",
     "output_type": "stream",
     "text": [
      "Warning in <TROOT::Append>: Replacing existing TH1: h (Potential memory leak).\n",
      "Warning in <TCanvas::Constructor>: Deleting canvas with same name: c\n"
     ]
    },
    {
     "data": {
      "image/png": "[encoded data removed]",
      "text/plain": [
       "<IPython.core.display.Image object>"
      ]
     },
     "metadata": {},
     "output_type": "display_data"
    }
   ],
   "source": [
    "a = np.random.chisquare(df=4, size=(3000))\n",
    "out = quantile(a, 0.75)"
   ]
  },
  {
   "cell_type": "code",
   "execution_count": null,
   "metadata": {},
   "outputs": [],
   "source": []
  }
 ],
 "metadata": {
  "kernelspec": {
   "display_name": "Python 2",
   "language": "python",
   "name": "python2"
  },
  "language_info": {
   "codemirror_mode": {
    "name": "ipython",
    "version": 2
   },
   "file_extension": ".py",
   "mimetype": "text/x-python",
   "name": "python",
   "nbconvert_exporter": "python",
   "pygments_lexer": "ipython2",
   "version": "2.7.14"
  }
 },
 "nbformat": 4,
 "nbformat_minor": 2
}
