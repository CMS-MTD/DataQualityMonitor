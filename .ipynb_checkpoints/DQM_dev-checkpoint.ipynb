{
 "cells": [
  {
   "cell_type": "code",
   "execution_count": 1,
   "metadata": {
    "collapsed": false
   },
   "outputs": [
    {
     "name": "stdout",
     "output_type": "stream",
     "text": [
      "Welcome to JupyROOT 6.10/08\n"
     ]
    }
   ],
   "source": [
    "import numpy as np\n",
    "import os, re, shutil\n",
    "import ROOT as rt\n",
    "from root_numpy import root2array\n",
    "from lib.histo_utilities import create_TH1D, create_TH2D\n",
    "from lib.cebefo_style import cebefo_style"
   ]
  },
  {
   "cell_type": "code",
   "execution_count": 2,
   "metadata": {
    "collapsed": true
   },
   "outputs": [],
   "source": [
    "cebefo_style()"
   ]
  },
  {
   "cell_type": "code",
   "execution_count": 3,
   "metadata": {
    "collapsed": true
   },
   "outputs": [],
   "source": [
    "input_file = '../data/test_Run146.root'\n",
    "config_file = 'config/VME_test.txt'\n",
    "save_loc = '/Users/olmo/Desktop'"
   ]
  },
  {
   "cell_type": "code",
   "execution_count": 4,
   "metadata": {
    "collapsed": false
   },
   "outputs": [],
   "source": [
    "class Config:\n",
    "    def __init__(self, infile):\n",
    "        self.raw_conf = open('config/VME_test.txt', 'r').readlines()\n",
    "        self.channel = {}\n",
    "        self.ch_ordered = []\n",
    "        self.plots = []\n",
    "        self.labels = []\n",
    "\n",
    "        for i, l in enumerate(self.raw_conf):\n",
    "            if l[0] == '#':\n",
    "                continue\n",
    "            l = l[0:-1].split(' ')\n",
    "            if '-->Pri' in l[0]:\n",
    "                self.plots = l[1:]\n",
    "            elif len(self.labels) == 0:\n",
    "                self.labels = l[1:]\n",
    "            else:\n",
    "                n = int(l[0])\n",
    "                self.ch_ordered.append(n)\n",
    "                l = l[1:]\n",
    "                self.channel[n] = {}\n",
    "                for k, val in zip(self.labels, l):\n",
    "                    if 'idx' in k:\n",
    "                        self.channel[n][k] = int(val)\n",
    "                    else:\n",
    "                        self.channel[n][k] = val"
   ]
  },
  {
   "cell_type": "code",
   "execution_count": 5,
   "metadata": {
    "collapsed": false
   },
   "outputs": [
    {
     "name": "stdout",
     "output_type": "stream",
     "text": [
      "['Amp', 'Int', 'WaveColor', 'PosRaw', 'PosWeight', 'TimeResRaw']\n",
      "{'idx_dut': -1, 'idx_ref': -1, 'idx_time': 1, 'var_ref': 'gaus_mean'}\n"
     ]
    }
   ],
   "source": [
    "configurations = Config(config_file)\n",
    "print configurations.plots\n",
    "print configurations.channel[9]"
   ]
  },
  {
   "cell_type": "code",
   "execution_count": 6,
   "metadata": {
    "collapsed": false
   },
   "outputs": [],
   "source": [
    "aux = re.search(r'Run[0-9]+', input_file)\n",
    "run_number = int(aux.group(0)[3:])\n",
    "\n",
    "if os.path.isdir(save_loc):\n",
    "    if save_loc[-1] != '/':\n",
    "        save_loc += '/'\n",
    "    out_dir = save_loc + 'Run' + str(run_number) + 'plots'\n",
    "    if os.path.exists(out_dir):\n",
    "        shutil.rmtree(out_dir)\n",
    "    os.mkdir(out_dir)\n",
    "else:\n",
    "    print 'Save location not existing:', save_loc\n",
    "    raise"
   ]
  },
  {
   "cell_type": "code",
   "execution_count": 7,
   "metadata": {
    "collapsed": false
   },
   "outputs": [
    {
     "name": "stdout",
     "output_type": "stream",
     "text": [
      "[ERROR]: Input file not found: cane\n"
     ]
    },
    {
     "name": "stderr",
     "output_type": "stream",
     "text": [
      "Error in <TFile::TFile>: file cane does not exist\n"
     ]
    }
   ],
   "source": [
    "inputs = ['../data/test_Run146.root', '../data/test_Run370.root', 'cane', '../data/test_Run509.root']\n",
    "\n",
    "chain = rt.TChain('pulse')\n",
    "chain.tree_name = tree_name = 'pulse'\n",
    "for i, f in enumerate(inputs):\n",
    "    root_file = rt.TFile.Open( f,\"READ\");\n",
    "    if not root_file:\n",
    "        print \"[ERROR]: Input file not found:\", f\n",
    "        continue\n",
    "    tree_name = root_file.GetListOfKeys().At(0).GetName()\n",
    "    if i == 0:\n",
    "        if tree_name != 'pulse':\n",
    "            print 'Change'\n",
    "            chain = rt.TChain(tree_name)\n",
    "            chain.tree_name = tree_name\n",
    "    elif tree_name != chain.tree_name:\n",
    "        print 'Skipping', f, ' for tree name incompatibility'\n",
    "        continue\n",
    "    chain.Add(f)\n",
    "\n",
    "# df = rt.ROOT.Experimental.TDataFrame(chain)"
   ]
  },
  {
   "cell_type": "code",
   "execution_count": 8,
   "metadata": {
    "collapsed": true
   },
   "outputs": [],
   "source": [
    "canvas = {}\n",
    "canvas['amp'] = {}\n",
    "canvas['int'] = {}\n",
    "canvas['wave'] = {}\n",
    "canvas['pos'] = {}\n",
    "canvas['w_pos'] = {}\n",
    "canvas['t_res_raw'] = {}"
   ]
  },
  {
   "cell_type": "code",
   "execution_count": 10,
   "metadata": {
    "collapsed": false
   },
   "outputs": [
    {
     "ename": "TypeError",
     "evalue": "can not resolve method template call for 'Histo1D'",
     "output_type": "error",
     "traceback": [
      "\u001b[0;31m---------------------------------------------------------------------------\u001b[0m",
      "\u001b[0;31mTypeError\u001b[0m                                 Traceback (most recent call last)",
      "\u001b[0;32m<ipython-input-10-9a0d1e8cdc4f>\u001b[0m in \u001b[0;36m<module>\u001b[0;34m()\u001b[0m\n\u001b[1;32m     11\u001b[0m     \u001b[0;31m#                 axis_title = ['Peak amplitude [mV]', 'Events / 5.5 mV'])\u001b[0m\u001b[0;34m\u001b[0m\u001b[0;34m\u001b[0m\u001b[0m\n\u001b[1;32m     12\u001b[0m \u001b[0;34m\u001b[0m\u001b[0m\n\u001b[0;32m---> 13\u001b[0;31m     \u001b[0mh\u001b[0m \u001b[0;34m=\u001b[0m \u001b[0mdf\u001b[0m\u001b[0;34m.\u001b[0m\u001b[0mHisto1D\u001b[0m\u001b[0;34m(\u001b[0m\u001b[0;34m'amp['\u001b[0m\u001b[0;34m+\u001b[0m \u001b[0mstr\u001b[0m\u001b[0;34m(\u001b[0m\u001b[0mk\u001b[0m\u001b[0;34m)\u001b[0m \u001b[0;34m+\u001b[0m\u001b[0;34m']'\u001b[0m\u001b[0;34m)\u001b[0m\u001b[0;34m\u001b[0m\u001b[0m\n\u001b[0m\u001b[1;32m     14\u001b[0m \u001b[0;34m\u001b[0m\u001b[0m\n\u001b[1;32m     15\u001b[0m     \u001b[0mh\u001b[0m\u001b[0;34m.\u001b[0m\u001b[0mGetXaxis\u001b[0m\u001b[0;34m(\u001b[0m\u001b[0;34m)\u001b[0m\u001b[0;34m.\u001b[0m\u001b[0mSetRange\u001b[0m\u001b[0;34m(\u001b[0m\u001b[0mint\u001b[0m\u001b[0;34m(\u001b[0m\u001b[0;36m40\u001b[0m\u001b[0;34m/\u001b[0m\u001b[0;36m5.5\u001b[0m\u001b[0;34m)\u001b[0m\u001b[0;34m+\u001b[0m\u001b[0;36m1\u001b[0m\u001b[0;34m,\u001b[0m\u001b[0mint\u001b[0m\u001b[0;34m(\u001b[0m\u001b[0;36m450\u001b[0m\u001b[0;34m/\u001b[0m\u001b[0;36m5.5\u001b[0m\u001b[0;34m)\u001b[0m\u001b[0;34m+\u001b[0m\u001b[0;36m1\u001b[0m\u001b[0;34m)\u001b[0m\u001b[0;34m\u001b[0m\u001b[0m\n",
      "\u001b[0;31mTypeError\u001b[0m: can not resolve method template call for 'Histo1D'"
     ]
    }
   ],
   "source": [
    "for k in configurations.ch_ordered:\n",
    "    conf = configurations.channel[k]\n",
    "\n",
    "\n",
    "    '''=========================== Amplitude ==========================='''\n",
    "    name = 'h_amp_'+str(k)\n",
    "    title = 'Amplitude channel '+str(k)\n",
    "    # amp = (data['amp'].T)[k]\n",
    "    # h = create_TH1D([0], name, title,\n",
    "    #                 binning = [100, 0, 550],\n",
    "    #                 axis_title = ['Peak amplitude [mV]', 'Events / 5.5 mV'])\n",
    "\n",
    "    # h = df.Histo1D('amp['+ str(k) +']')\n",
    "\n",
    "    h.GetXaxis().SetRange(int(40/5.5)+1,int(450/5.5)+1)\n",
    "    i_max = h.GetMaximumBin()\n",
    "    h.GetXaxis().SetRange(1,100)\n",
    "    peak = h.GetBinCenter(i_max)\n",
    "    conf['amp_range'] = [max(20,peak*0.6), min(450, peak*1.6)]\n",
    "    res = h.Fit('landau','LQSR', '', conf['amp_range'][0], conf['amp_range'][1])\n",
    "    #     h.SetOptStat\n",
    "\n",
    "    if 'Amp' in configurations.plots:\n",
    "        canvas['amp'][k] = rt.TCanvas('c_amp_'+str(k), 'c_amp_'+str(k), 800, 600)\n",
    "        if(h.GetMaximum() - h.GetMinimum() > 5000):\n",
    "            canvas['amp'][k].SetLogy()\n",
    "        h.DrawCopy('E1')\n",
    "        canvas['amp'][k].Update()\n",
    "        canvas['amp'][k].SaveAs(out_dir + '/Amp_ch'+str(k)+'.png')\n",
    "\n",
    "    # Compute the selection and save it to the\n",
    "    conf['amp_sel'] = np.logical_and(np.greater(amp,conf['amp_range'][0]), np.less(amp, conf['amp_range'][1]))"
   ]
  },
  {
   "cell_type": "code",
   "execution_count": null,
   "metadata": {
    "collapsed": true
   },
   "outputs": [],
   "source": []
  }
 ],
 "metadata": {
  "kernelspec": {
   "display_name": "Python 2",
   "language": "python",
   "name": "python2"
  },
  "language_info": {
   "codemirror_mode": {
    "name": "ipython",
    "version": 2
   },
   "file_extension": ".py",
   "mimetype": "text/x-python",
   "name": "python",
   "nbconvert_exporter": "python",
   "pygments_lexer": "ipython2",
   "version": "2.7.11"
  }
 },
 "nbformat": 4,
 "nbformat_minor": 0
}
