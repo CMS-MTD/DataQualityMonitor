{
 "cells": [
  {
   "cell_type": "code",
   "execution_count": 1,
   "metadata": {
    "collapsed": false
   },
   "outputs": [
    {
     "name": "stdout",
     "output_type": "stream",
     "text": [
      "Welcome to JupyROOT 6.10/08\n"
     ]
    }
   ],
   "source": [
    "import numpy as np\n",
    "import os, re, shutil\n",
    "import ROOT as rt\n",
    "from root_numpy import root2array\n",
    "from lib.histo_utilities import create_TH1D, create_TH2D\n",
    "from lib.cebefo_style import cebefo_style"
   ]
  },
  {
   "cell_type": "code",
   "execution_count": 2,
   "metadata": {
    "collapsed": true
   },
   "outputs": [],
   "source": [
    "cebefo_style()"
   ]
  },
  {
   "cell_type": "code",
   "execution_count": 3,
   "metadata": {
    "collapsed": true
   },
   "outputs": [],
   "source": [
    "input_file = '../data/RawDataSaver0CMSVMETiming_Run81_0_Raw.root'\n",
    "config_file = 'config/VME_test.txt'\n",
    "save_loc = '/Users/olmo/Desktop'"
   ]
  },
  {
   "cell_type": "code",
   "execution_count": 19,
   "metadata": {
    "collapsed": false
   },
   "outputs": [],
   "source": [
    "class Config:\n",
    "    def __init__(self, infile):\n",
    "        self.raw_conf = open('config/VME_test.txt', 'r').readlines()\n",
    "        self.channel = {}\n",
    "        self.ch_ordered = []\n",
    "        self.plots = []\n",
    "        self.labels = []\n",
    "\n",
    "        for i, l in enumerate(self.raw_conf):\n",
    "            l = l[0:-1].split('  ')\n",
    "            if '-->Pri' in l[0]:\n",
    "                print l\n",
    "                self.plots = l[1:]\n",
    "            elif len(self.labels) == 0:\n",
    "                self.labels = l[1:]\n",
    "            else:\n",
    "                print l\n",
    "                n = int(l[0])\n",
    "                self.ch_ordered.append(n)\n",
    "                l = l[1:]\n",
    "                self.channel[n] = {}\n",
    "                for k, val in zip(self.labels, l):\n",
    "                    print k, val\n",
    "                    if 'idx' in k:\n",
    "                        self.channel[n][k] = int(val)\n",
    "                    else:\n",
    "                        self.channel[n][k] = val"
   ]
  },
  {
   "cell_type": "code",
   "execution_count": 20,
   "metadata": {
    "collapsed": false
   },
   "outputs": [
    {
     "name": "stdout",
     "output_type": "stream",
     "text": [
      "['-->Print:', 'TimeResolution']\n",
      "['9', '1', '-1', '-1', 'gaus_mean']\n",
      "idx_time 1\n",
      "idx_dut -1\n",
      "idx_ref -1\n",
      "var_ref gaus_mean\n",
      "['14', '1', '0', '9', 'LP2_10']\n",
      "idx_time 1\n",
      "idx_dut 0\n",
      "idx_ref 9\n",
      "var_ref LP2_10\n",
      "['15', '1', '0', '9', 'LP2_10']\n",
      "idx_time 1\n",
      "idx_dut 0\n",
      "idx_ref 9\n",
      "var_ref LP2_10\n",
      "['TimeResolution']\n",
      "{'idx_dut': -1, 'idx_ref': -1, 'idx_time': 1, 'var_ref': 'gaus_mean'}\n"
     ]
    }
   ],
   "source": [
    "configurations = Config(config_file)\n",
    "print configurations.plots\n",
    "print configurations.channel[9]"
   ]
  },
  {
   "cell_type": "code",
   "execution_count": null,
   "metadata": {
    "collapsed": false
   },
   "outputs": [],
   "source": [
    "aux = re.search(r'Run[0-9]+', input_file)\n",
    "run_number = int(aux.group(0)[3:])\n",
    "\n",
    "if os.path.isdir(save_loc):\n",
    "    if save_loc[-1] != '/':\n",
    "        save_loc += '/'\n",
    "    out_dir = save_loc + 'Run' + str(run_number) + 'plots'\n",
    "    if os.path.exists(out_dir):\n",
    "        shutil.rmtree(out_dir)\n",
    "    os.mkdir(out_dir)\n",
    "else:\n",
    "    print 'Save location not existing:', save_loc\n",
    "    raise"
   ]
  },
  {
   "cell_type": "code",
   "execution_count": null,
   "metadata": {
    "collapsed": false
   },
   "outputs": [],
   "source": [
    "canvas = {}\n",
    "canvas['amp'] = {}\n",
    "canvas['int'] = {}\n",
    "canvas['wave'] = {}\n",
    "canvas['pos'] = {}\n",
    "canvas['w_pos'] = {}\n",
    "\n",
    "branches = ['amp', 'channel', 'integral', 'time', 'x_dut', 'y_dut']\n",
    "# branches.append('amp')\n",
    "\n",
    "data = root2array(input_file, branches=branches)\n",
    "\n",
    "for k, conf in configurations.channel.items():\n",
    "    \n",
    "    '''=========================== Amplitude ==========================='''\n",
    "    canvas['amp'][k] = rt.TCanvas('c_amp_'+str(k), 'c_amp_'+str(k), 800, 600)\n",
    "    \n",
    "    name = 'h_amp_'+str(k)\n",
    "    title = 'Amplitude channel '+str(k)\n",
    "    amp = (data['amp'].T)[k]\n",
    "    h = create_TH1D(amp, name, title, \n",
    "                    binning = [100, 0, 550],\n",
    "                    axis_title = ['Peak amplitude [mV]', 'Events / 5.5 mV'])\n",
    "            \n",
    "    h.GetXaxis().SetRange(int(40/5.5)+1,int(450/5.5)+1)\n",
    "    i_max = h.GetMaximumBin()\n",
    "    h.GetXaxis().SetRange(1,100)\n",
    "    peak = h.GetBinCenter(i_max)\n",
    "    conf['amp_range'] = [max(20,peak*0.6), min(450, peak*1.6)]\n",
    "    res = h.Fit('landau','LQSR', '', conf['amp_range'][0], conf['amp_range'][1])\n",
    "    #     h.SetOptStat\n",
    "    \n",
    "    if(h.GetMaximum() - h.GetMinimum() > 100):\n",
    "        canvas['amp'][k].SetLogy()\n",
    "    h.DrawCopy('E1')\n",
    "    canvas['amp'][k].SaveAs(out_dir + '/Amp_ch'+str(k)+'.png')\n",
    "    \n",
    "    '''=========================== Integral ==========================='''\n",
    "    canvas['int'][k] = rt.TCanvas('c_int_'+str(k), 'c_int_'+str(k), 800, 600)\n",
    "    \n",
    "    name = 'h_int_'+str(k)\n",
    "    title = 'Integral channel '+str(k)\n",
    "    integral = -(data['integral'].T)[k]\n",
    "    h = create_TH1D(integral, name, title, \n",
    "                    binning = [100, np.min(integral), np.max(integral)],\n",
    "                    axis_title = ['Integral [pC]', 'Events'])\n",
    "    \n",
    "    if(h.GetMaximum() - h.GetMinimum() > 100):\n",
    "        canvas['int'][k].SetLogy()\n",
    "    h.DrawCopy('E1')\n",
    "    canvas['int'][k].SaveAs(out_dir + '/Int_ch'+str(k)+'.png')\n",
    "    \n",
    "    '''=========================== Waveform color chart ==========================='''\n",
    "    canvas['wave'][k] = rt.TCanvas('c_wave_'+str(k), 'c_wave_'+str(k), 800, 600)\n",
    "    \n",
    "    name = 'h_wave_'+str(k)\n",
    "    title = 'Waveform color chart channel '+str(k)\n",
    "    \n",
    "    ch = data['channel'][:,k].flatten()\n",
    "    t = data['time'][:,conf['idx_time']].flatten()\n",
    "    \n",
    "    h = create_TH2D(np.column_stack((t,ch)), name, title,\n",
    "                    binning = [250, 0, np.max(t), 250, np.min(ch), np.max(ch)],\n",
    "                    axis_title = ['Time [ns]', 'Voltage [mV]']\n",
    "                   )\n",
    "    h.SetStats(0)\n",
    "    \n",
    "    if(h.GetMaximum() - h.GetMinimum() > 100):\n",
    "        canvas['wave'][k].SetLogz()\n",
    "    h.DrawCopy('colz')\n",
    "    canvas['wave'][k].SaveAs(out_dir + '/Waveform_ch'+str(k)+'.png')\n",
    "\n",
    "    '''=========================== Raw time resolution ==========================='''\n",
    "    if conf['idx_dut'] >= 0:\n",
    "        name = 'h_pos_'+str(k)\n",
    "        title = 'Track position at z_DUT[' + str(conf['idx_dut']) + '], for channel amp['+str(k)+'] in {' \n",
    "        title += str(conf['amp_range'][0]) + ', ' + str(conf['amp_range'][1]) + '} mV'\n",
    "        \n",
    "        sel = np.logical_and(np.greater(amp,conf['amp_range'][0]), np.less(amp, conf['amp_range'][1]))\n",
    "\n",
    "        x = (data['x_dut'].T)[conf['idx_dut']]\n",
    "        y = (data['y_dut'].T)[conf['idx_dut']]\n",
    "        \n",
    "        sel = np.logical_and(sel, np.greater(x, -998))\n",
    "        sel = np.logical_and(sel, np.greater(y, -998))\n",
    "\n",
    "        x = x[sel]\n",
    "        y = y[sel]\n",
    "\n",
    "        h = create_TH2D(np.column_stack((x,y)), name, title,\n",
    "                        binning = [250, np.min(x), np.max(x)+0.3*np.std(x), 250, np.min(y), np.max(y)+0.3*np.std(x)],\n",
    "                        axis_title = ['x [mm]', 'y [mm]']\n",
    "                       )\n",
    "        \n",
    "        canvas['pos'][k] = rt.TCanvas('c_pos_'+str(k), 'c_pos_'+str(k), 800, 600)\n",
    "        h.DrawCopy('colz')\n",
    "        canvas['pos'][k].SaveAs(out_dir + '/PositionXY_raw_ch'+str(k)+'.png')\n",
    "        \n",
    "        name = 'h_weight_pos_'+str(k)\n",
    "        title = 'Track position at z_DUT[' + str(conf['idx_dut']) + '] weighted with channel amp['+str(k)+'] in {' \n",
    "        title += str(conf['amp_range'][0]) + ', ' + str(conf['amp_range'][1]) + '} mV'\n",
    "        h = create_TH2D(np.column_stack((x,y)), name, title, weights=amp[sel],\n",
    "                        binning = [250, np.min(x), np.max(x)+0.3*np.std(x), 250, np.min(y), np.max(y)+0.3*np.std(x)],\n",
    "                        axis_title = ['x [mm]', 'y [mm]']\n",
    "                       )\n",
    "\n",
    "        canvas['w_pos'][k] = rt.TCanvas('c_w_pos_'+str(k), 'c_w_pos_'+str(k), 800, 600)\n",
    "        h.DrawCopy('colz')\n",
    "        canvas['w_pos'][k].SaveAs(out_dir + '/PositionXY_amp_weight_ch'+str(k)+'.png')\n",
    "    "
   ]
  },
  {
   "cell_type": "code",
   "execution_count": null,
   "metadata": {
    "collapsed": false
   },
   "outputs": [],
   "source": [
    "int(5.5)"
   ]
  },
  {
   "cell_type": "code",
   "execution_count": null,
   "metadata": {
    "collapsed": false
   },
   "outputs": [],
   "source": [
    "data['channel'][:,9].flatten()\n",
    "data['channel'][:,9].flatten()"
   ]
  },
  {
   "cell_type": "code",
   "execution_count": null,
   "metadata": {
    "collapsed": false
   },
   "outputs": [],
   "source": [
    "data['x_dut'].T."
   ]
  },
  {
   "cell_type": "code",
   "execution_count": null,
   "metadata": {
    "collapsed": false
   },
   "outputs": [],
   "source": [
    "'a' == 'a'"
   ]
  },
  {
   "cell_type": "code",
   "execution_count": null,
   "metadata": {
    "collapsed": true
   },
   "outputs": [],
   "source": []
  }
 ],
 "metadata": {
  "kernelspec": {
   "display_name": "Python 2",
   "language": "python",
   "name": "python2"
  },
  "language_info": {
   "codemirror_mode": {
    "name": "ipython",
    "version": 2
   },
   "file_extension": ".py",
   "mimetype": "text/x-python",
   "name": "python",
   "nbconvert_exporter": "python",
   "pygments_lexer": "ipython2",
   "version": "2.7.11"
  }
 },
 "nbformat": 4,
 "nbformat_minor": 0
}
